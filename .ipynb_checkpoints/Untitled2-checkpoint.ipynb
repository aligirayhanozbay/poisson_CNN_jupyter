{
 "cells": [
  {
   "cell_type": "code",
   "execution_count": 1,
   "metadata": {},
   "outputs": [],
   "source": [
    "import poisson_CNN"
   ]
  },
  {
   "cell_type": "code",
   "execution_count": 2,
   "metadata": {},
   "outputs": [],
   "source": [
    "dg = poisson_CNN.dataset.generators.homogeneous_analytical_dataset_generator(batch_size=20, batches_per_epoch=50)"
   ]
  },
  {
   "cell_type": "code",
   "execution_count": 3,
   "metadata": {},
   "outputs": [
    {
     "ename": "NameError",
     "evalue": "name 'n_random' is not defined",
     "output_type": "error",
     "traceback": [
      "\u001b[0;31m---------------------------------------------------------------------------\u001b[0m",
      "\u001b[0;31mNameError\u001b[0m                                 Traceback (most recent call last)",
      "\u001b[0;32m<ipython-input-3-0a863b4922c5>\u001b[0m in \u001b[0;36m<module>\u001b[0;34m\u001b[0m\n\u001b[0;32m----> 1\u001b[0;31m \u001b[0minp\u001b[0m\u001b[0;34m,\u001b[0m \u001b[0msoln\u001b[0m \u001b[0;34m=\u001b[0m \u001b[0mdg\u001b[0m\u001b[0;34m.\u001b[0m\u001b[0m__getitem__\u001b[0m\u001b[0;34m(\u001b[0m\u001b[0;36m0\u001b[0m\u001b[0;34m)\u001b[0m\u001b[0;34m\u001b[0m\u001b[0;34m\u001b[0m\u001b[0m\n\u001b[0m",
      "\u001b[0;32m~/.conda/envs/tf2.0/lib/python3.7/site-packages/poisson_CNN/dataset/generators/analytical.py\u001b[0m in \u001b[0;36m__getitem__\u001b[0;34m(self, idx)\u001b[0m\n\u001b[1;32m    199\u001b[0m             \u001b[0mself\u001b[0m\u001b[0;34m.\u001b[0m\u001b[0mada\u001b[0m\u001b[0;34m[\u001b[0m\u001b[0;34m'output_shape'\u001b[0m\u001b[0;34m]\u001b[0m \u001b[0;34m=\u001b[0m \u001b[0mself\u001b[0m\u001b[0;34m.\u001b[0m\u001b[0moutput_shape\u001b[0m\u001b[0;34m\u001b[0m\u001b[0;34m\u001b[0m\u001b[0m\n\u001b[1;32m    200\u001b[0m \u001b[0;34m\u001b[0m\u001b[0m\n\u001b[0;32m--> 201\u001b[0;31m         \u001b[0minp\u001b[0m\u001b[0;34m,\u001b[0m \u001b[0mout\u001b[0m \u001b[0;34m=\u001b[0m \u001b[0mhomogeneous_analytical_dataset\u001b[0m\u001b[0;34m(\u001b[0m\u001b[0;34m**\u001b[0m\u001b[0mself\u001b[0m\u001b[0;34m.\u001b[0m\u001b[0mada\u001b[0m\u001b[0;34m,\u001b[0m \u001b[0mbatch_size\u001b[0m \u001b[0;34m=\u001b[0m \u001b[0mself\u001b[0m\u001b[0;34m.\u001b[0m\u001b[0mbatch_size\u001b[0m\u001b[0;34m)\u001b[0m\u001b[0;34m\u001b[0m\u001b[0;34m\u001b[0m\u001b[0m\n\u001b[0m\u001b[1;32m    202\u001b[0m         \u001b[0;32mreturn\u001b[0m \u001b[0minp\u001b[0m\u001b[0;34m,\u001b[0m \u001b[0mout\u001b[0m\u001b[0;34m\u001b[0m\u001b[0;34m\u001b[0m\u001b[0m\n\u001b[1;32m    203\u001b[0m \u001b[0;34m\u001b[0m\u001b[0m\n",
      "\u001b[0;32m~/.conda/envs/tf2.0/lib/python3.7/site-packages/poisson_CNN/dataset/generators/analytical.py\u001b[0m in \u001b[0;36mhomogeneous_analytical_dataset\u001b[0;34m(rhs, output_shape, nmodes, domain, n_threads, return_rhs, max_magnitude, batch_size, expanded_dims, return_dx)\u001b[0m\n\u001b[1;32m     86\u001b[0m         \u001b[0;31m#Thus the solution to the Poisson equation \\nabla^2 u = F will be u = a_{m_1,...,m_n} * sin((m_1+1)*pi*x_1/L_1) * ... * sin((m_n+1)*pi*x_n/L_n))\u001b[0m\u001b[0;34m\u001b[0m\u001b[0;34m\u001b[0m\u001b[0;34m\u001b[0m\u001b[0m\n\u001b[1;32m     87\u001b[0m         \u001b[0;31m#where a_{m_1,...,m_n} = -A_{m_1,...,m_n} * /(((m_1+1)*pi/L_1)^2+...+((m_n+1)*pi/L_n)^2)\u001b[0m\u001b[0;34m\u001b[0m\u001b[0;34m\u001b[0m\u001b[0;34m\u001b[0m\u001b[0m\n\u001b[0;32m---> 88\u001b[0;31m         \u001b[0mrhs_function_coeffs\u001b[0m \u001b[0;34m=\u001b[0m \u001b[0moe\u001b[0m\u001b[0;34m.\u001b[0m\u001b[0mcontract\u001b[0m\u001b[0;34m(\u001b[0m\u001b[0;34m'ij,j->ij'\u001b[0m\u001b[0;34m,\u001b[0m\u001b[0;36m2\u001b[0m\u001b[0;34m*\u001b[0m\u001b[0mtf\u001b[0m\u001b[0;34m.\u001b[0m\u001b[0mrandom\u001b[0m\u001b[0;34m.\u001b[0m\u001b[0muniform\u001b[0m\u001b[0;34m(\u001b[0m\u001b[0mtf\u001b[0m\u001b[0;34m.\u001b[0m\u001b[0mstack\u001b[0m\u001b[0;34m(\u001b[0m\u001b[0;34m[\u001b[0m\u001b[0mn_random\u001b[0m\u001b[0;34m,\u001b[0m \u001b[0mmode_permutations\u001b[0m\u001b[0;34m.\u001b[0m\u001b[0mshape\u001b[0m\u001b[0;34m[\u001b[0m\u001b[0;36m0\u001b[0m\u001b[0;34m]\u001b[0m\u001b[0;34m]\u001b[0m\u001b[0;34m)\u001b[0m\u001b[0;34m,\u001b[0m\u001b[0mdtype\u001b[0m \u001b[0;34m=\u001b[0m \u001b[0mtf\u001b[0m\u001b[0;34m.\u001b[0m\u001b[0mkeras\u001b[0m\u001b[0;34m.\u001b[0m\u001b[0mbackend\u001b[0m\u001b[0;34m.\u001b[0m\u001b[0mfloatx\u001b[0m\u001b[0;34m(\u001b[0m\u001b[0;34m)\u001b[0m\u001b[0;34m)\u001b[0m\u001b[0;34m-\u001b[0m\u001b[0;36m1\u001b[0m\u001b[0;34m,\u001b[0m\u001b[0mtf\u001b[0m\u001b[0;34m.\u001b[0m\u001b[0mexp\u001b[0m\u001b[0;34m(\u001b[0m\u001b[0;34m-\u001b[0m\u001b[0mtf\u001b[0m\u001b[0;34m.\u001b[0m\u001b[0mreduce_sum\u001b[0m\u001b[0;34m(\u001b[0m\u001b[0mtf\u001b[0m\u001b[0;34m.\u001b[0m\u001b[0mcast\u001b[0m\u001b[0;34m(\u001b[0m\u001b[0mmode_permutations\u001b[0m\u001b[0;34m,\u001b[0m \u001b[0mtf\u001b[0m\u001b[0;34m.\u001b[0m\u001b[0mkeras\u001b[0m\u001b[0;34m.\u001b[0m\u001b[0mbackend\u001b[0m\u001b[0;34m.\u001b[0m\u001b[0mfloatx\u001b[0m\u001b[0;34m(\u001b[0m\u001b[0;34m)\u001b[0m\u001b[0;34m)\u001b[0m\u001b[0;34m,\u001b[0m\u001b[0maxis\u001b[0m\u001b[0;34m=\u001b[0m\u001b[0;36m1\u001b[0m\u001b[0;34m)\u001b[0m\u001b[0;34m)\u001b[0m\u001b[0;34m,\u001b[0m \u001b[0mbackend\u001b[0m \u001b[0;34m=\u001b[0m \u001b[0;34m'tensorflow'\u001b[0m\u001b[0;34m)\u001b[0m \u001b[0;31m#Random RHS function Fourier coefficients\u001b[0m\u001b[0;34m\u001b[0m\u001b[0;34m\u001b[0m\u001b[0m\n\u001b[0m\u001b[1;32m     89\u001b[0m         \u001b[0msoln_function_coeffs\u001b[0m \u001b[0;34m=\u001b[0m \u001b[0;34m-\u001b[0m\u001b[0moe\u001b[0m\u001b[0;34m.\u001b[0m\u001b[0mcontract\u001b[0m\u001b[0;34m(\u001b[0m\u001b[0;34m'ij,j->ij'\u001b[0m\u001b[0;34m,\u001b[0m\u001b[0mrhs_function_coeffs\u001b[0m\u001b[0;34m,\u001b[0m \u001b[0mtf\u001b[0m\u001b[0;34m.\u001b[0m\u001b[0mreduce_sum\u001b[0m\u001b[0;34m(\u001b[0m\u001b[0mtf\u001b[0m\u001b[0;34m.\u001b[0m\u001b[0msquare\u001b[0m\u001b[0;34m(\u001b[0m\u001b[0mmplus1_pi_over_L\u001b[0m\u001b[0;34m)\u001b[0m\u001b[0;34m,\u001b[0m\u001b[0maxis\u001b[0m\u001b[0;34m=\u001b[0m\u001b[0;36m1\u001b[0m\u001b[0;34m)\u001b[0m\u001b[0;34m**\u001b[0m\u001b[0;34m(\u001b[0m\u001b[0;34m-\u001b[0m\u001b[0;36m1\u001b[0m\u001b[0;34m)\u001b[0m\u001b[0;34m,\u001b[0m \u001b[0mbackend\u001b[0m \u001b[0;34m=\u001b[0m \u001b[0;34m'tensorflow'\u001b[0m\u001b[0;34m)\u001b[0m \u001b[0;31m#Random solution Fourier coefficients\u001b[0m\u001b[0;34m\u001b[0m\u001b[0;34m\u001b[0m\u001b[0m\n\u001b[1;32m     90\u001b[0m \u001b[0;34m\u001b[0m\u001b[0m\n",
      "\u001b[0;31mNameError\u001b[0m: name 'n_random' is not defined"
     ]
    }
   ],
   "source": [
    "inp, soln = dg.__getitem__(0)"
   ]
  },
  {
   "cell_type": "code",
   "execution_count": 5,
   "metadata": {},
   "outputs": [],
   "source": [
    "p = dataset.generators.numerical_dataset_generator(output_shape = (1024,1024), batch_size = 10)"
   ]
  },
  {
   "cell_type": "code",
   "execution_count": 6,
   "metadata": {},
   "outputs": [
    {
     "name": "stderr",
     "output_type": "stream",
     "text": [
      "/home/ago14/.conda/envs/tf2.0/lib/python3.7/site-packages/pyamg/gallery/stencil.py:114: FutureWarning: Using a non-tuple sequence for multidimensional indexing is deprecated; use `arr[tuple(seq)]` instead of `arr[seq]`. In the future this will be interpreted as an array index, `arr[np.array(seq)]`, which will result either in an error or a different result.\n",
      "  diag[s] = 0\n",
      "/home/ago14/.conda/envs/tf2.0/lib/python3.7/site-packages/pyamg/gallery/stencil.py:110: FutureWarning: Using a non-tuple sequence for multidimensional indexing is deprecated; use `arr[tuple(seq)]` instead of `arr[seq]`. In the future this will be interpreted as an array index, `arr[np.array(seq)]`, which will result either in an error or a different result.\n",
      "  diag[s] = 0\n"
     ]
    },
    {
     "name": "stdout",
     "output_type": "stream",
     "text": [
      "(1048576, 1048576)\n"
     ]
    }
   ],
   "source": [
    "inp, soln = next(p)"
   ]
  },
  {
   "cell_type": "code",
   "execution_count": 9,
   "metadata": {},
   "outputs": [
    {
     "data": {
      "text/plain": [
       "<tf.Tensor: id=1955, shape=(10, 1, 1024, 1024), dtype=float64, numpy=\n",
       "array([[[[2.36093285, 2.54356627, 2.59022692, ..., 1.94372596,\n",
       "          1.99503709, 1.84139584],\n",
       "         [2.39846772, 2.44861017, 2.48115709, ..., 1.84809992,\n",
       "          1.84323166, 1.74430333],\n",
       "         [2.35038928, 2.36986525, 2.3909507 , ..., 1.81115546,\n",
       "          1.78235148, 1.6917826 ],\n",
       "         ...,\n",
       "         [1.92701573, 1.79703771, 1.7277717 , ..., 2.3452811 ,\n",
       "          2.43706594, 2.53894574],\n",
       "         [2.12866703, 1.8431569 , 1.69557023, ..., 2.31881443,\n",
       "          2.41285965, 2.49728033],\n",
       "         [2.19751215, 1.75318153, 1.56036683, ..., 2.27822099,\n",
       "          2.40298299, 2.38597301]]],\n",
       "\n",
       "\n",
       "       [[[2.09167957, 1.85236866, 1.75711061, ..., 1.82469768,\n",
       "          1.7205658 , 1.68707749],\n",
       "         [2.16812912, 1.99428163, 1.88242771, ..., 1.85157797,\n",
       "          1.74717879, 1.64021646],\n",
       "         [2.22240981, 2.074327  , 1.96393848, ..., 1.87571715,\n",
       "          1.77829983, 1.6704158 ],\n",
       "         ...,\n",
       "         [1.76735067, 1.8065955 , 1.84126283, ..., 2.02486292,\n",
       "          1.97903007, 1.92888643],\n",
       "         [1.90591549, 1.89277595, 1.88333189, ..., 2.10382974,\n",
       "          2.02764295, 1.95830454],\n",
       "         [2.00513621, 1.97468429, 1.88866026, ..., 2.22286815,\n",
       "          2.06951512, 1.98348583]]],\n",
       "\n",
       "\n",
       "       [[[2.15374648, 1.98999346, 1.91634125, ..., 2.48973334,\n",
       "          2.46469758, 2.3971217 ],\n",
       "         [2.13155066, 2.00792644, 1.94017263, ..., 2.43898146,\n",
       "          2.42834431, 2.43537171],\n",
       "         [2.03649801, 1.97094096, 1.932306  , ..., 2.38914934,\n",
       "          2.37465176, 2.365625  ],\n",
       "         ...,\n",
       "         [2.69658758, 2.54761936, 2.44308376, ..., 1.71837511,\n",
       "          1.61870224, 1.50057414],\n",
       "         [2.6193128 , 2.45022326, 2.3735176 , ..., 1.69847453,\n",
       "          1.60627651, 1.49824582],\n",
       "         [2.44263574, 2.26117325, 2.28415011, ..., 1.66504767,\n",
       "          1.61097377, 1.58992048]]],\n",
       "\n",
       "\n",
       "       ...,\n",
       "\n",
       "\n",
       "       [[[1.69359598, 1.59145668, 1.60230528, ..., 1.57515291,\n",
       "          1.50159646, 1.55309221],\n",
       "         [1.77142134, 1.7718641 , 1.77613993, ..., 1.63462882,\n",
       "          1.54729412, 1.46449737],\n",
       "         [1.96398665, 1.94822359, 1.93329119, ..., 1.68267259,\n",
       "          1.58863867, 1.47466937],\n",
       "         ...,\n",
       "         [1.6662384 , 1.82320662, 1.94808979, ..., 2.13105232,\n",
       "          2.16135254, 2.2070539 ],\n",
       "         [1.66986065, 1.84646772, 2.01043395, ..., 2.16796567,\n",
       "          2.24125895, 2.35086338],\n",
       "         [1.73467285, 1.88184538, 2.14211056, ..., 2.16065521,\n",
       "          2.2844473 , 2.36804748]]],\n",
       "\n",
       "\n",
       "       [[[2.15542572, 2.24782906, 2.25409883, ..., 2.1975954 ,\n",
       "          2.25177973, 2.11508134],\n",
       "         [2.18307823, 2.20719872, 2.21451944, ..., 2.04660836,\n",
       "          2.07237749, 2.04403068],\n",
       "         [2.18045905, 2.18055387, 2.18359403, ..., 1.93432331,\n",
       "          1.94407244, 1.9326512 ],\n",
       "         ...,\n",
       "         [1.72816491, 1.70698047, 1.70527919, ..., 1.88990918,\n",
       "          1.89327799, 1.87588889],\n",
       "         [1.83867059, 1.70700463, 1.64775244, ..., 1.92135216,\n",
       "          1.98441635, 2.05118366],\n",
       "         [1.91705449, 1.63327458, 1.50580503, ..., 1.95840223,\n",
       "          2.07197903, 2.14818786]]],\n",
       "\n",
       "\n",
       "       [[[1.97475388, 1.82330483, 1.88629032, ..., 1.85328344,\n",
       "          1.90349314, 2.03105028],\n",
       "         [2.04929425, 2.01298561, 2.04862912, ..., 1.82290333,\n",
       "          1.85057236, 1.91240523],\n",
       "         [2.13179241, 2.13259186, 2.16110152, ..., 1.78300668,\n",
       "          1.76517359, 1.73315614],\n",
       "         ...,\n",
       "         [1.40089878, 1.53110257, 1.60753565, ..., 2.12480195,\n",
       "          2.10905988, 2.10943289],\n",
       "         [1.50242411, 1.63630575, 1.69260831, ..., 2.05085428,\n",
       "          2.03498358, 2.0520977 ],\n",
       "         [1.6690396 , 1.81794727, 1.82793765, ..., 1.93585368,\n",
       "          1.93131988, 2.0011969 ]]]])>"
      ]
     },
     "execution_count": 9,
     "metadata": {},
     "output_type": "execute_result"
    }
   ],
   "source": [
    "import tensorflow as tf\n",
    "tf.constant(soln) + 2"
   ]
  }
 ],
 "metadata": {
  "kernelspec": {
   "display_name": "Python 3",
   "language": "python",
   "name": "python3"
  },
  "language_info": {
   "codemirror_mode": {
    "name": "ipython",
    "version": 3
   },
   "file_extension": ".py",
   "mimetype": "text/x-python",
   "name": "python",
   "nbconvert_exporter": "python",
   "pygments_lexer": "ipython3",
   "version": "3.7.3"
  }
 },
 "nbformat": 4,
 "nbformat_minor": 2
}
