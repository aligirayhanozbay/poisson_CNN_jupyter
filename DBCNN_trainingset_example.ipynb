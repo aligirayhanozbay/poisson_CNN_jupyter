{
 "cells": [
  {
   "cell_type": "code",
   "execution_count": null,
   "metadata": {},
   "outputs": [],
   "source": [
    "import tensorflow as tf\n",
    "import poisson_CNN_old as poisson_CNN\n",
    "import numpy as np\n",
    "import matplotlib.pyplot as plt\n",
    "import warnings\n",
    "import matplotlib as mpl\n",
    "\n",
    "warnings.filterwarnings(\"ignore\")\n",
    "tf.keras.backend.set_floatx('float32')\n",
    "\n",
    "img_path = '/home/ago14/storage/ali/manuscript/results/training_set_examples/'\n",
    "examplename = 'tset_dbcnn_2'\n",
    "case = 'dbcnn_'"
   ]
  },
  {
   "cell_type": "code",
   "execution_count": null,
   "metadata": {},
   "outputs": [],
   "source": [
    "#Load model\n",
    "br = None#tf.keras.regularizers.L1L2(l2=1e-5)#\n",
    "kr = None#tf.keras.regularizers.L1L2(l2=1e-5)#\n",
    "mod = poisson_CNN.models.Dirichlet_BC_NN(data_format = 'channels_first', initial_kernel_size=13, final_kernel_size=3, conv1d_final_channels=256, kernel_regularizer=kr, bias_regularizer=br, mae_component_weight = 5e+1, mse_component_weight = 5e+2, n_quadpts=34)\n",
    "mod((tf.random.uniform((10,1,74), dtype = tf.keras.backend.floatx()), tf.random.uniform((10,1), dtype = tf.keras.backend.floatx()), tf.constant(np.random.randint(48,96))))\n",
    "from IPython.display import clear_output\n",
    "clear_output()\n",
    "mod.load_weights('DBCNN_direct_192_228_5e-3_5e-2_2.h5')"
   ]
  },
  {
   "cell_type": "code",
   "execution_count": null,
   "metadata": {},
   "outputs": [],
   "source": [
    "#Set up data generator\n",
    "output_shape_range = [[192,228],[192,228]]#[[120,260],[120,260]]#\n",
    "rdxr = [0.005,0.05]#[0.1,0.3]#\n",
    "brsr = {'left':[5,8], 'top':[5,8], 'right':[5,8], 'bottom': [5,8]}\n",
    "dg = poisson_CNN.dataset.generators.numerical_dataset_generator(batch_size = 20, batches_per_epoch = 50, rhses = 'zero', return_rhs = False, return_boundaries = True, return_keras_style=True, nonzero_boundaries = ['left'], exclude_zero_boundaries=True, return_dx = True, return_shape = True, random_output_shape_range = output_shape_range, random_dx_range = rdxr, randomize_boundary_smoothness=True, boundary_random_smoothness_range=brsr)"
   ]
  },
  {
   "cell_type": "code",
   "execution_count": null,
   "metadata": {},
   "outputs": [],
   "source": [
    "#Training - do not execute just to try out the model!\n",
    "loss = lambda yt,yp: tf.keras.losses.mse(yt,yp) + tf.keras.losses.mean_squared_logarithmic_error(yt,yp)\n",
    "savefile = 'DBCNN_direct_192_228_5e-3_5e-2_logerror.h5'\n",
    "cb = [tf.keras.callbacks.ModelCheckpoint(savefile, monitor='mse', verbose=1, save_best_only=True, save_weights_only=True), tf.keras.callbacks.ReduceLROnPlateau(monitor='loss', min_lr = 1e-8, verbose = True, patience = 5)]\n",
    "mod.compile(loss = 'mse', optimizer = tf.keras.optimizers.Adam(learning_rate = 5e-6), metrics = ['mse', 'mae'])\n",
    "\n",
    "mod.run_eagerly = True\n",
    "mod.fit_generator(generator=dg, epochs=5000, callbacks=cb)"
   ]
  },
  {
   "cell_type": "code",
   "execution_count": null,
   "metadata": {},
   "outputs": [],
   "source": [
    "#Get new batch of data, use model to predict\n",
    "inp,soln = dg.__getitem__(10)\n",
    "pred = mod(inp)"
   ]
  },
  {
   "cell_type": "code",
   "execution_count": null,
   "metadata": {},
   "outputs": [],
   "source": [
    "#Evaluate batch error statistics\n",
    "q = np.abs(pred - tf.cast(soln, tf.keras.backend.floatx()))/np.abs(tf.cast(soln, tf.keras.backend.floatx()))\n",
    "rms = tf.sqrt(tf.reduce_mean((pred - tf.cast(soln, tf.keras.backend.floatx()))**2))\n",
    "mae = tf.reduce_mean(tf.abs(pred - tf.cast(soln, tf.keras.backend.floatx())))\n",
    "print('Mean abs % error: ' + str(100*float(tf.reduce_mean(q[q < 1]))))\n",
    "print('% of gridpts with less than 10% error: ' + str(100*float(np.sum(q < 0.1)/np.prod(q.shape))))\n",
    "print('RMS error: ' + str(float(rms)))\n",
    "print('MAE: ' + str(float(mae)))"
   ]
  },
  {
   "cell_type": "code",
   "execution_count": null,
   "metadata": {},
   "outputs": [],
   "source": [
    "#Ground truth plotting\n",
    "import matplotlib as mpl\n",
    "mpl.rcParams['figure.dpi']=300\n",
    "\n",
    "saving = False\n",
    "\n",
    "x, y = np.meshgrid(np.linspace(0, soln.shape[-2]*inp[1][0,0], soln.shape[-2]), np.linspace(0, soln.shape[-1]*inp[1][0,0], soln.shape[-1]), indexing = 'ij')\n",
    "print('Mean abs % error of sample: ' + str(100*float(tf.reduce_mean(q[p_r,0,...][q[p_r,0,...] < 1]))))\n",
    "z = soln[p_r,0,...]\n",
    "dx = float(inp[1][p_r,0])\n",
    "print('dx: ' + str(dx))\n",
    "print(float(tf.reduce_mean(tf.keras.losses.mae(pred[p_r,...],tf.cast(soln[p_r,...],tf.keras.backend.floatx())))/tf.cast(tf.reduce_max(tf.abs(soln[p_r,...])),tf.keras.backend.floatx())))\n",
    "print(z.shape)\n",
    "z_min, z_max = -np.abs(z).max(), np.abs(z).max()\n",
    "fig, ax = plt.subplots()\n",
    "c = ax.pcolormesh(x, y, z, cmap='RdBu', vmin=z_min, vmax=z_max)\n",
    "ax.set_title('Ground truth')\n",
    "ax.axis([x.min(), x.max(), y.min(), y.max()])\n",
    "fig.colorbar(c, ax=ax)\n",
    "\n",
    "x1 = np.max(x)/8\n",
    "x2 = 7*np.max(x)/8\n",
    "y1 = 1*np.max(y)/4\n",
    "y2 = 2*np.max(y)/4\n",
    "plt.axvline(x=x1, color = 'm', linestyle = '--')\n",
    "plt.axvline(x=x2, color = 'm', linestyle = '--')\n",
    "plt.axhline(y=y1, color = 'm', linestyle = '--')\n",
    "plt.axhline(y=y2, color = 'm', linestyle = '--')\n",
    "\n",
    "if saving:\n",
    "    identifier = '_' + str(int(soln.shape[-2])) + 'x' + str(int(soln.shape[-1])) + '_dx' + ('{:.2e}'.format(dx)) + '_'\n",
    "    thisimage = 'groundtruth'\n",
    "    plt.savefig(img_path + examplename + '/' + examplename + identifier + case + thisimage + '.png', bbox_inches = 'tight')\n",
    "\n",
    "\n",
    "plt.show()"
   ]
  },
  {
   "cell_type": "code",
   "execution_count": null,
   "metadata": {},
   "outputs": [],
   "source": [
    "#Prediction plotting\n",
    "x, y = np.meshgrid(np.linspace(0, soln.shape[-2]*inp[1][0,0], soln.shape[-2]), np.linspace(0, soln.shape[-1]*inp[1][0,0], soln.shape[-1]), indexing = 'ij')\n",
    "pred = mod(inp)\n",
    "z = pred[p_r,0,...]\n",
    "print(pred.shape)\n",
    "fig, ax = plt.subplots()\n",
    "c = ax.pcolormesh(x, y, z, cmap='RdBu', vmin=z_min, vmax=z_max)\n",
    "ax.set_title('DBCNN Prediction')\n",
    "ax.axis([x.min(), x.max(), y.min(), y.max()])\n",
    "fig.colorbar(c, ax=ax)\n",
    "\n",
    "if saving:\n",
    "    thisimage = 'pred'\n",
    "    plt.savefig(img_path + examplename + '/' + examplename + identifier + case + thisimage + '.png', bbox_inches = 'tight')\n",
    "\n",
    "\n",
    "plt.show()"
   ]
  },
  {
   "cell_type": "code",
   "execution_count": null,
   "metadata": {},
   "outputs": [],
   "source": [
    "#BC plotting\n",
    "xpos = 0\n",
    "plt.plot(y[0,:], soln[p_r,0,xpos,:], label = 'Ground truth')\n",
    "plt.legend()\n",
    "plt.title('Imposed boundary condition')\n",
    "\n",
    "if saving:\n",
    "    thisimage = 'bc'\n",
    "    plt.savefig(img_path + examplename + '/' + examplename + identifier + case + thisimage + '.png', bbox_inches = 'tight')\n",
    "\n",
    "plt.show()"
   ]
  },
  {
   "cell_type": "code",
   "execution_count": null,
   "metadata": {},
   "outputs": [],
   "source": [
    "#Plots at constant y (change ypos variable to adjust the y values)\n",
    "ypos = (soln.shape[-1]//4)\n",
    "print(np.squeeze(pred[p_r,0,:,ypos]).shape)\n",
    "plt.plot(x[:,0], pred[p_r,0,:,ypos], label = 'Pred. y=' + ('{:.4f}'.format((ypos * inp[1][p_r,0]).numpy())))\n",
    "plt.plot(x[:,0], soln[p_r,0,:,ypos], label = 'Gnd. tru. y=' + ('{:.4f}'.format((ypos * inp[1][p_r,0]).numpy())))\n",
    "ypos = (2*soln.shape[-1]//4)\n",
    "plt.plot(x[:,0], pred[p_r,0,:,ypos], label = 'Pred. y=' + ('{:.4f}'.format((ypos * inp[1][p_r,0]).numpy())))\n",
    "plt.plot(x[:,0], soln[p_r,0,:,ypos], label = 'Gnd. tru. y=' + ('{:.4f}'.format((ypos * inp[1][p_r,0]).numpy())))\n",
    "plt.legend()\n",
    "plt.title('Values of the solution at constant y')\n",
    "\n",
    "if saving:\n",
    "    thisimage = 'consty'\n",
    "    plt.savefig(img_path + examplename + '/' + examplename + identifier + case + thisimage + '.png', bbox_inches = 'tight')\n",
    "\n",
    "plt.show()"
   ]
  },
  {
   "cell_type": "code",
   "execution_count": null,
   "metadata": {},
   "outputs": [],
   "source": [
    "#Plots at constant x\n",
    "xpos = (soln.shape[-2]//8)\n",
    "print(np.squeeze(pred[p_r,0,xpos,:]).shape)\n",
    "plt.plot(y[0,:], pred[p_r,0,xpos,:], label = 'Pred. x=' + ('{:.4f}'.format((xpos * inp[1][p_r,0]).numpy())))\n",
    "plt.plot(y[0,:], soln[p_r,0,xpos,:], label = 'Gnd. tru. x=' + ('{:.4f}'.format((xpos * inp[1][p_r,0]).numpy())))\n",
    "xpos = (7*soln.shape[-2]//8)\n",
    "plt.plot(y[0,:], pred[p_r,0,xpos,:], label = 'Pred. x=' + ('{:.4f}'.format((xpos * inp[1][p_r,0]).numpy())))\n",
    "plt.plot(y[0,:], soln[p_r,0,xpos,:], label = 'Gnd. tru. x=' + ('{:.4f}'.format((xpos * inp[1][p_r,0]).numpy())))\n",
    "plt.legend()\n",
    "plt.title('Values of the solution at constant x')\n",
    "\n",
    "if saving:\n",
    "    thisimage = 'constx'\n",
    "    plt.savefig(img_path + examplename + '/' + examplename + identifier + case + thisimage + '.png', bbox_inches = 'tight')\n",
    "\n",
    "plt.show()"
   ]
  },
  {
   "cell_type": "code",
   "execution_count": null,
   "metadata": {},
   "outputs": [],
   "source": [
    "#Percentage error map plot\n",
    "x, y = np.meshgrid(np.linspace(0, soln.shape[-2]*inp[1][p_r,0], soln.shape[-2]), np.linspace(0, soln.shape[-1]*inp[1][p_r,0], soln.shape[-1]), indexing = 'ij')\n",
    "z = 100*tf.abs((pred[p_r,0,...] - tf.cast(soln[p_r,0,...], tf.keras.backend.floatx()))/tf.cast(soln[p_r,0,...], tf.keras.backend.floatx()))\n",
    "z_min, z_max = 0,100\n",
    "print(np.mean(np.array(z)[np.array(z) < 100000000]))\n",
    "fig, ax = plt.subplots()\n",
    "c = ax.pcolormesh(x, y, z, cmap='Blues', vmin=z_min, vmax=z_max)\n",
    "ax.set_title('Absolute error percentage')\n",
    "ax.axis([x.min(), x.max(), y.min(), y.max()])\n",
    "fig.colorbar(c, ax=ax)\n",
    "\n",
    "if saving:\n",
    "    thisimage = 'percentageerrormap'\n",
    "    plt.savefig(img_path + examplename + '/' + examplename + identifier + case + thisimage + '.png', bbox_inches = 'tight')\n",
    "\n",
    "plt.show()"
   ]
  },
  {
   "cell_type": "code",
   "execution_count": null,
   "metadata": {},
   "outputs": [],
   "source": [
    "#Error map plot\n",
    "x, y = np.meshgrid(np.linspace(0, soln.shape[-2]*inp[1][p_r,0], soln.shape[-2]), np.linspace(0, soln.shape[-1]*inp[1][p_r,0], soln.shape[-1]), indexing = 'ij')\n",
    "z = pred[p_r,0,...] - tf.cast(soln[p_r,0,...], tf.keras.backend.floatx())\n",
    "z_min, z_max = -0.3*np.abs(z).max(), 0.3*np.abs(z).max()\n",
    "print(np.mean(np.abs(z)))\n",
    "#z_min, z_max = -1,1\n",
    "#z_min, z_max = -0.8,0.8\n",
    "fig, ax = plt.subplots()\n",
    "c = ax.pcolormesh(x, y, z, cmap='RdBu', vmin=z_min, vmax=z_max)\n",
    "#c = ax.pcolormesh(x, y, z, cmap='RdBu', vmin=z_min, vmax=z_max)\n",
    "ax.set_title('Absolute error')\n",
    "ax.axis([x.min(), x.max(), y.min(), y.max()])\n",
    "fig.colorbar(c, ax=ax)\n",
    "\n",
    "if saving:\n",
    "    thisimage = 'errormap'\n",
    "    plt.savefig(img_path + examplename + '/' + examplename + identifier + case + thisimage + '.png', bbox_inches = 'tight')\n",
    "\n",
    "plt.show()"
   ]
  },
  {
   "cell_type": "code",
   "execution_count": null,
   "metadata": {},
   "outputs": [],
   "source": [
    "#Evaluate error statistics for 600 samples (can take long!)\n",
    "from IPython.display import clear_output\n",
    "rmses = []\n",
    "maes = []\n",
    "mapes = []\n",
    "pgpb10s = []\n",
    "nepochs = 60\n",
    "roundtonearest = lambda x,base: base * round(x/base)\n",
    "for k in range(nepochs):\n",
    "    if k%5 == 0:\n",
    "        progress = int(roundtonearest(k/nepochs,0.05)//0.05)\n",
    "        clear_output()\n",
    "        progressbar = ''.join(['['] + ['=' for s in range(progress-1)] + ['>'] + [' ' for s in range(20-progress)] + [']'])\n",
    "        print(progressbar)\n",
    "        \n",
    "    inp600, soln600 = dg.__getitem__(10)\n",
    "    pred600 = mod(inp600)\n",
    "    rms = tf.sqrt(tf.reduce_mean((pred600 - tf.cast(soln600, tf.keras.backend.floatx()))**2))\n",
    "    mae = tf.reduce_mean(tf.abs(pred600 - tf.cast(soln600, tf.keras.backend.floatx())))\n",
    "    q = np.abs(pred600 - tf.cast(soln600, tf.keras.backend.floatx()))/np.abs(tf.cast(soln600, tf.keras.backend.floatx()))\n",
    "    rmses.append(rms)\n",
    "    maes.append(mae)\n",
    "    mapes.append(100*float(tf.reduce_mean(q[q < 1])))\n",
    "    pgpb10s.append(100*float(np.sum(q < 0.1)/np.prod(q.shape)))\n",
    "print('Mean abs % error: ' + str(np.mean(mapes)))\n",
    "print('% of gridpts with less than 10% error: ' + str(np.mean(pgpb10s)))\n",
    "print('RMS error: ' + str(np.mean(rmses)))\n",
    "print('MAE: ' + str(np.mean(maes)))"
   ]
  },
  {
   "cell_type": "code",
   "execution_count": null,
   "metadata": {},
   "outputs": [],
   "source": []
  }
 ],
 "metadata": {
  "kernelspec": {
   "display_name": "Python 3",
   "language": "python",
   "name": "python3"
  },
  "language_info": {
   "codemirror_mode": {
    "name": "ipython",
    "version": 3
   },
   "file_extension": ".py",
   "mimetype": "text/x-python",
   "name": "python",
   "nbconvert_exporter": "python",
   "pygments_lexer": "ipython3",
   "version": "3.7.3"
  }
 },
 "nbformat": 4,
 "nbformat_minor": 2
}
